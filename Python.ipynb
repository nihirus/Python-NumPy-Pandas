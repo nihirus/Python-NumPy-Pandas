{
  "nbformat": 4,
  "nbformat_minor": 0,
  "metadata": {
    "colab": {
      "provenance": [],
      "collapsed_sections": [],
      "toc_visible": true
    },
    "hide_input": false,
    "kernelspec": {
      "display_name": "Python 3",
      "language": "python",
      "name": "python3"
    },
    "language_info": {
      "codemirror_mode": {
        "name": "ipython",
        "version": 3
      },
      "file_extension": ".py",
      "mimetype": "text/x-python",
      "name": "python",
      "nbconvert_exporter": "python",
      "pygments_lexer": "ipython3",
      "version": "3.7.3"
    },
    "toc": {
      "base_numbering": 1,
      "nav_menu": {},
      "number_sections": true,
      "sideBar": true,
      "skip_h1_title": false,
      "title_cell": "Table of Contents",
      "title_sidebar": "Contents",
      "toc_cell": false,
      "toc_position": {},
      "toc_section_display": true,
      "toc_window_display": false
    },
    "varInspector": {
      "cols": {
        "lenName": 16,
        "lenType": 16,
        "lenVar": 40
      },
      "kernels_config": {
        "python": {
          "delete_cmd_postfix": "",
          "delete_cmd_prefix": "del ",
          "library": "var_list.py",
          "varRefreshCmd": "print(var_dic_list())"
        },
        "r": {
          "delete_cmd_postfix": ") ",
          "delete_cmd_prefix": "rm(",
          "library": "var_list.r",
          "varRefreshCmd": "cat(var_dic_list()) "
        }
      },
      "types_to_exclude": [
        "module",
        "function",
        "builtin_function_or_method",
        "instance",
        "_Feature"
      ],
      "window_display": false
    }
  },
  "cells": [
    {
      "cell_type": "markdown",
      "metadata": {
        "id": "1ZranGejeO0V"
      },
      "source": [
        "# Basic Syntax"
      ]
    },
    {
      "cell_type": "markdown",
      "metadata": {
        "id": "1Mj2jezqD5Rb"
      },
      "source": [
        "Write code that prints \"Hello, World!\""
      ]
    },
    {
      "cell_type": "code",
      "metadata": {
        "id": "jg8VeQyteZ5X",
        "colab": {
          "base_uri": "https://localhost:8080/",
          "height": 0
        },
        "outputId": "cca0a0de-2567-403b-fd85-6f9af1d1988e"
      },
      "source": [
        "print(\"Hello World!\")"
      ],
      "execution_count": 8,
      "outputs": [
        {
          "output_type": "stream",
          "name": "stdout",
          "text": [
            "Hello World!\n"
          ]
        }
      ]
    },
    {
      "cell_type": "markdown",
      "metadata": {
        "id": "kYzEjrCZeE3u"
      },
      "source": [
        "Fix the syntax of the following cells:"
      ]
    },
    {
      "cell_type": "code",
      "metadata": {
        "id": "T0QV2Td9d9bo",
        "colab": {
          "base_uri": "https://localhost:8080/",
          "height": 0
        },
        "outputId": "d2384871-dabe-474e-cf8d-64d87db4883f"
      },
      "source": [
        "if 5 > 2:\n",
        "  print(\"Five is greater than two!\")"
      ],
      "execution_count": 9,
      "outputs": [
        {
          "output_type": "stream",
          "name": "stdout",
          "text": [
            "Five is greater than two!\n"
          ]
        }
      ]
    },
    {
      "cell_type": "code",
      "metadata": {
        "id": "qbws_k6PeDWK",
        "colab": {
          "base_uri": "https://localhost:8080/",
          "height": 0
        },
        "outputId": "5ac78f6e-eb85-4aa9-8e6b-c63c5db7cdbd"
      },
      "source": [
        "if 5 > 2:\n",
        "   print(\"Five is greater than two!\")\n",
        "\n",
        "print(\"Five is greater than two!\")"
      ],
      "execution_count": 10,
      "outputs": [
        {
          "output_type": "stream",
          "name": "stdout",
          "text": [
            "Five is greater than two!\n",
            "Five is greater than two!\n"
          ]
        }
      ]
    },
    {
      "cell_type": "markdown",
      "metadata": {
        "id": "myzOT-Yneivc"
      },
      "source": [
        "Write a comment with only one line and another with more than one line"
      ]
    },
    {
      "cell_type": "code",
      "metadata": {
        "id": "THt2WxUGe0NK",
        "colab": {
          "base_uri": "https://localhost:8080/",
          "height": 35
        },
        "outputId": "d9e37017-cf9d-488c-c889-e19b8059c2d3"
      },
      "source": [
        "# This is one line comment.\n",
        "\"\"\" \n",
        "more\n",
        "than\n",
        "one line\n",
        "comment \n",
        "\"\"\"\n"
      ],
      "execution_count": 11,
      "outputs": [
        {
          "output_type": "execute_result",
          "data": {
            "text/plain": [
              "' \\nmore\\nthan\\none line\\ncomment \\n'"
            ],
            "application/vnd.google.colaboratory.intrinsic+json": {
              "type": "string"
            }
          },
          "metadata": {},
          "execution_count": 11
        }
      ]
    },
    {
      "cell_type": "markdown",
      "metadata": {
        "id": "cYrCVgv4e6xF"
      },
      "source": [
        "# Data: scalar types\n"
      ]
    },
    {
      "cell_type": "markdown",
      "metadata": {
        "id": "7sfLjL6RD-mi"
      },
      "source": [
        "Here you have to:\n",
        "* define variables of the basic types: integer, floating comma, string and boolean\n",
        "* print variables\n",
        "* verify that the types of the variables are as required (type function)\n",
        "* remove variables"
      ]
    },
    {
      "cell_type": "code",
      "metadata": {
        "id": "DZuUkiBWe65_",
        "colab": {
          "base_uri": "https://localhost:8080/",
          "height": 0
        },
        "outputId": "b35cf39a-9ed7-401d-ef50-efd3b08a1eba"
      },
      "source": [
        "a = \"Text\"\n",
        "b= 22\n",
        "c= 63.8\n",
        "d= True\n",
        "\n",
        "print (type(a),type(b),type(c),type(d))\n",
        "del (a,b,c,d)\n"
      ],
      "execution_count": 12,
      "outputs": [
        {
          "output_type": "stream",
          "name": "stdout",
          "text": [
            "<class 'str'> <class 'int'> <class 'float'> <class 'bool'>\n"
          ]
        }
      ]
    },
    {
      "cell_type": "markdown",
      "metadata": {
        "id": "bMEvwmfte7Cu"
      },
      "source": [
        "* declare multiple variables on a single line\n",
        "* declare several variables with the same value in a single line\n",
        "* in each case use print to verify your results\n",
        "* remove variables when finished\n"
      ]
    },
    {
      "cell_type": "code",
      "metadata": {
        "id": "jjS-gWZie7J6",
        "colab": {
          "base_uri": "https://localhost:8080/",
          "height": 0
        },
        "outputId": "1756cd07-070f-4dc7-ab47-cf0d25f8989b"
      },
      "source": [
        "a,b,c = 2,\"books\", True\n",
        "print(a,b,c)\n",
        "x = y = z = \"Tuğba\"\n",
        "print(x)\n",
        "print(y)\n",
        "print(z)\n",
        "del(a,b,c,x,y,z)"
      ],
      "execution_count": 13,
      "outputs": [
        {
          "output_type": "stream",
          "name": "stdout",
          "text": [
            "2 books True\n",
            "Tuğba\n",
            "Tuğba\n",
            "Tuğba\n"
          ]
        }
      ]
    },
    {
      "cell_type": "markdown",
      "metadata": {
        "id": "E5Ze5RB5e7Qq"
      },
      "source": [
        "* declare 3 variables of type string\n",
        "* concatenate them by assigning the result to a fourth variable\n",
        "* check your result with a print"
      ]
    },
    {
      "cell_type": "code",
      "metadata": {
        "id": "kq2ZVKE3e7Wu",
        "colab": {
          "base_uri": "https://localhost:8080/",
          "height": 0
        },
        "outputId": "0eeeabb6-cac1-46b2-9db2-238660100b20"
      },
      "source": [
        "a = \"Hello \"\n",
        "b = \"World \"\n",
        "c= \"!!\"\n",
        "d = a+b+c\n",
        "print(d)"
      ],
      "execution_count": 14,
      "outputs": [
        {
          "output_type": "stream",
          "name": "stdout",
          "text": [
            "Hello World !!\n"
          ]
        }
      ]
    },
    {
      "cell_type": "markdown",
      "metadata": {
        "id": "G5IF5ZZwe7es"
      },
      "source": [
        "Access the first, fifth and last character of the following string variable"
      ]
    },
    {
      "cell_type": "code",
      "metadata": {
        "id": "xpaI9mwMe7k0",
        "colab": {
          "base_uri": "https://localhost:8080/",
          "height": 0
        },
        "outputId": "75c7ff6a-5a06-4600-eac3-61da7415d7f4"
      },
      "source": [
        "a = \"Hello, World!\"\n",
        "print(a[0])\n",
        "print(a[5])\n",
        "print(a[-1])"
      ],
      "execution_count": 15,
      "outputs": [
        {
          "output_type": "stream",
          "name": "stdout",
          "text": [
            "H\n",
            ",\n",
            "!\n"
          ]
        }
      ]
    },
    {
      "cell_type": "markdown",
      "metadata": {
        "id": "6Quu9ksXiWpp"
      },
      "source": [
        "From the variable ** s **, using the methods of the string type variables, obtain:\n",
        "- capitalize the first character\n",
        "- count how many times the character 'i' appears\n",
        "- check if the variable ends with the character 'x'\n",
        "- verify that all characters are lowercase\n",
        "- capitalize the variable\n",
        "- replace the sub-string 'inf' with 'sup'"
      ]
    },
    {
      "cell_type": "code",
      "metadata": {
        "id": "Fho4uWCyiWx-",
        "colab": {
          "base_uri": "https://localhost:8080/",
          "height": 0
        },
        "outputId": "2d582b84-3a4d-4ced-c333-82a05d0b7784"
      },
      "source": [
        "s = \"inferior\"\n",
        "print(s.capitalize())\n",
        "print(s.count('i'))\n",
        "print(s.find(\"x\"))\n",
        "print(s.lower())  \n",
        "print(s.upper())\n",
        "print(s.replace(\"inf\",\"sup\"))"
      ],
      "execution_count": 16,
      "outputs": [
        {
          "output_type": "stream",
          "name": "stdout",
          "text": [
            "Inferior\n",
            "2\n",
            "-1\n",
            "inferior\n",
            "INFERIOR\n",
            "superior\n"
          ]
        }
      ]
    },
    {
      "cell_type": "markdown",
      "metadata": {
        "id": "jPNAlj3miW5v"
      },
      "source": [
        "with variables a, b:\n",
        "- add them\n",
        "- multiply them\n",
        "- divide\n",
        "- get the integer part of the quotient\n",
        "- get the remainder of the division\n",
        "- squares 'a'\n",
        "- convert 'a' to float type\n",
        "- verify that 'a' is greater than 'b'\n",
        "- verify that 'a' is different from 'b'"
      ]
    },
    {
      "cell_type": "code",
      "metadata": {
        "id": "kjmTL_7ziXC3",
        "colab": {
          "base_uri": "https://localhost:8080/"
        },
        "outputId": "21a0bd1b-9ce7-4f1d-9624-fe04a8a24dba"
      },
      "source": [
        "a,b = 11,5\n",
        "print(a+b)\n",
        "print(a*b)\n",
        "print(a/b)\n",
        "print(a//b)\n",
        "print(a%b)\n",
        "print(a**2)\n",
        "print(float(a))\n",
        "is_greater_than = a > b\n",
        "print(is_greater_than)\n",
        "is_equal_to = a==b\n",
        "print(is_equal_to)"
      ],
      "execution_count": null,
      "outputs": [
        {
          "output_type": "stream",
          "name": "stdout",
          "text": [
            "16\n",
            "55\n",
            "2.2\n",
            "2\n",
            "1\n",
            "121\n",
            "11.0\n",
            "True\n",
            "False\n"
          ]
        }
      ]
    },
    {
      "cell_type": "markdown",
      "metadata": {
        "id": "lTl8RbBliXLm"
      },
      "source": [
        "# Data: data structures\n"
      ]
    },
    {
      "cell_type": "markdown",
      "metadata": {
        "id": "BvPPoy0IEJri"
      },
      "source": [
        "- define a tuple with 3 elements without using the tuple constructor\n",
        "- define a tuple with 3 elements with the tuple constructor\n",
        "- define a single element tuple"
      ]
    },
    {
      "cell_type": "code",
      "metadata": {
        "id": "Hic2XyJviXSB",
        "colab": {
          "base_uri": "https://localhost:8080/"
        },
        "outputId": "5b0e6582-c901-4823-83b9-17526ec77710"
      },
      "source": [
        "names = (\"Ali\", \"Mehmet\", \"Esra\")\n",
        "print(names)\n",
        "surnames = tuple((\"Çelik\", \"Yılmaz\", \"Durkut\")) \n",
        "print(surnames)\n",
        "myt =tuple((\"hello\"))\n",
        "print(myt)"
      ],
      "execution_count": null,
      "outputs": [
        {
          "output_type": "stream",
          "name": "stdout",
          "text": [
            "('Ali', 'Mehmet', 'Esra')\n",
            "('Çelik', 'Yılmaz', 'Durkut')\n",
            "('h', 'e', 'l', 'l', 'o')\n"
          ]
        }
      ]
    },
    {
      "cell_type": "markdown",
      "metadata": {
        "id": "HkskUrMJiXX1"
      },
      "source": [
        "- access the first element of the tuple\n",
        "- access the last element of the tuple\n",
        "- calculate the length of the tuple\n",
        "- get the number of times the value 1 appears\n",
        "- get the index of the element 'hello' in the tuple\n"
      ]
    },
    {
      "cell_type": "code",
      "metadata": {
        "id": "STvnikKxiXc1",
        "colab": {
          "base_uri": "https://localhost:8080/"
        },
        "outputId": "f41c8ff0-264d-4554-93bf-72355ec7f080"
      },
      "source": [
        "mytuple = (1,'hola',1,True)\n",
        "\n",
        "print(mytuple[0])\n",
        "print(mytuple[-1])\n",
        "print(len(mytuple))\n",
        "num = mytuple.count(1)\n",
        "print(num)\n",
        "print(mytuple.index('hola'))\n"
      ],
      "execution_count": null,
      "outputs": [
        {
          "output_type": "stream",
          "name": "stdout",
          "text": [
            "1\n",
            "True\n",
            "4\n",
            "3\n",
            "1\n"
          ]
        }
      ]
    },
    {
      "cell_type": "markdown",
      "metadata": {
        "id": "KID4yPH1iXil"
      },
      "source": [
        "- define a list with 3 elements of different types\n",
        "- define a list of 3 elements with the list constructor "
      ]
    },
    {
      "cell_type": "code",
      "metadata": {
        "id": "T2MJbX5PiXm-",
        "colab": {
          "base_uri": "https://localhost:8080/"
        },
        "outputId": "7f13411b-0236-4c6f-cb74-358748a79c0a"
      },
      "source": [
        "mylist = [61,\"new\",32.8]\n",
        "print(mylist)\n",
        "mylist2 = list(mylist)\n",
        "print(mylist2)"
      ],
      "execution_count": null,
      "outputs": [
        {
          "output_type": "stream",
          "name": "stdout",
          "text": [
            "[61, 'new', 32.8]\n",
            "[61, 'new', 32.8]\n"
          ]
        }
      ]
    },
    {
      "cell_type": "markdown",
      "metadata": {
        "id": "PE9RzJgIiXsn"
      },
      "source": [
        "- sort the list\n",
        "- add item 5 to the list\n",
        "- remove item 5 from the list\n",
        "- join the list with the list ['a', 'b', 'c']\n",
        "- duplicate the list\n",
        "- empty the list"
      ]
    },
    {
      "cell_type": "code",
      "metadata": {
        "id": "HeN6sThxiXxq",
        "colab": {
          "base_uri": "https://localhost:8080/"
        },
        "outputId": "c97e0db0-0ab9-4acc-9c94-c90f44f2bbe0"
      },
      "source": [
        "import copy\n",
        "\n",
        "mylist = [3,4,1,2]\n",
        "mylist.sort()\n",
        "print(mylist)\n",
        "mylist.append(5)\n",
        "print(mylist)\n",
        "del mylist[-1]\n",
        "print(mylist)\n",
        "mylist.extend(['a', 'b', 'c'])\n",
        "print(mylist)\n",
        "duplicate = mylist.copy()\n",
        "print(duplicate)\n",
        "mylist.clear()\n",
        "print(mylist)"
      ],
      "execution_count": null,
      "outputs": [
        {
          "output_type": "stream",
          "name": "stdout",
          "text": [
            "[1, 2, 3, 4]\n",
            "[1, 2, 3, 4, 5]\n",
            "[1, 2, 3, 4]\n",
            "[1, 2, 3, 4, 'a', 'b', 'c']\n",
            "[1, 2, 3, 4, 'a', 'b', 'c']\n",
            "[]\n"
          ]
        }
      ]
    },
    {
      "cell_type": "markdown",
      "metadata": {
        "id": "_RodD2pfiX3i"
      },
      "source": [
        "- define a set with 3 elements\n",
        "- define a set of 3 elements with the set constructor"
      ]
    },
    {
      "cell_type": "code",
      "metadata": {
        "id": "Axj084jMiX7x",
        "colab": {
          "base_uri": "https://localhost:8080/"
        },
        "outputId": "6441223a-84e8-420a-a2a0-b2dda2403b1f"
      },
      "source": [
        "myset = {67, 3, \"hi\"}\n",
        "print(myset)\n",
        "myset2 = set([54,15,8])\n",
        "print(myset2)"
      ],
      "execution_count": null,
      "outputs": [
        {
          "output_type": "stream",
          "name": "stdout",
          "text": [
            "{3, 67, 'hi'}\n",
            "{8, 54, 15}\n"
          ]
        }
      ]
    },
    {
      "cell_type": "markdown",
      "metadata": {
        "id": "WODB4rsZvt3S"
      },
      "source": [
        "- get the length of the two sets\n",
        "- check if there is an intersection between both sets\n",
        "- get the intersection between both sets\n",
        "- get the elements of set1 that are not in set2\n",
        "- check if set1 contains set2\n",
        "- get the union between both sets\n",
        "- remove item 1 from set1\n",
        "- add the element 'hello' to set1\n",
        "- empty set1\n"
      ]
    },
    {
      "cell_type": "code",
      "metadata": {
        "id": "vuCa4cb4vt94",
        "colab": {
          "base_uri": "https://localhost:8080/"
        },
        "outputId": "6d8c6b2d-c0a1-4097-daf3-02bbea3ca1bf"
      },
      "source": [
        "set1,set2 = {1,2,3,4,5},{4,5,6,7,8}\n",
        "print(len(set1))\n",
        "print(len(set2))\n",
        "print(bool(set1 & set2))\n",
        "print(set1.intersection(set2))\n",
        "print(set2.issubset(set1))\n",
        "newset = set.union(set1,set2)\n",
        "print(newset)\n",
        "set1.remove(1)\n",
        "print(set1)\n",
        "set1.add(\"hello\")\n",
        "print(set1)\n",
        "set1.clear()\n",
        "print(set1)"
      ],
      "execution_count": null,
      "outputs": [
        {
          "output_type": "stream",
          "name": "stdout",
          "text": [
            "5\n",
            "5\n",
            "True\n",
            "{4, 5}\n",
            "False\n",
            "{1, 2, 3, 4, 5, 6, 7, 8}\n",
            "{2, 3, 4, 5}\n",
            "{2, 3, 4, 5, 'hello'}\n",
            "set()\n"
          ]
        }
      ]
    },
    {
      "cell_type": "markdown",
      "metadata": {
        "id": "rDb073wmvuDt"
      },
      "source": [
        "- define a dictionary with 3 elements\n",
        "- get the length from the dictionary\n",
        "- access the value of the first element \n"
      ]
    },
    {
      "cell_type": "code",
      "metadata": {
        "id": "BnGbCMVKvuJX",
        "colab": {
          "base_uri": "https://localhost:8080/"
        },
        "outputId": "377b0fcf-3aaa-48cf-ee28-eaf4d895ac48"
      },
      "source": [
        "dict = {'Name': 'Tuğba', 'Age': 22, 'Class': 'Third'}\n",
        "print(len(dict))\n",
        "print ( dict['Name'])"
      ],
      "execution_count": null,
      "outputs": [
        {
          "output_type": "stream",
          "name": "stdout",
          "text": [
            "3\n",
            "Tuğba\n"
          ]
        }
      ]
    },
    {
      "cell_type": "markdown",
      "metadata": {
        "id": "RaSXHzmNvuO3"
      },
      "source": [
        "- get the items from the dictionary\n",
        "- get the keys from the dictionary\n",
        "- get the values from the dictionary\n",
        "- remove the key-value from key = 'hello'\n",
        "- empty the dictionary"
      ]
    },
    {
      "cell_type": "code",
      "metadata": {
        "id": "YZ9jqBW1vuUl",
        "colab": {
          "base_uri": "https://localhost:8080/"
        },
        "outputId": "54b005ae-c6df-46a8-ce22-914cdde5c118"
      },
      "source": [
        "mydict = {'hola':1,True:2,123:456}\n",
        "\n",
        "print(mydict.items())\n",
        "print(mydict.keys())\n",
        "print(mydict.values())\n",
        "del mydict[\"hola\"]\n",
        "mydict.clear()\n",
        "print(mydict)"
      ],
      "execution_count": null,
      "outputs": [
        {
          "output_type": "stream",
          "name": "stdout",
          "text": [
            "dict_items([('hola', 1), (True, 2), (123, 456)])\n",
            "dict_keys(['hola', True, 123])\n",
            "dict_values([1, 2, 456])\n",
            "{}\n"
          ]
        }
      ]
    },
    {
      "cell_type": "markdown",
      "metadata": {
        "id": "3SCsg9ZivuZ6"
      },
      "source": [
        "# Flow control structures\n"
      ]
    },
    {
      "cell_type": "markdown",
      "metadata": {
        "id": "fOOeEXmgMmmc"
      },
      "source": [
        "## if loop\n",
        "- define x as an integer\n",
        "- defines a flow that using if,elif and else:\n",
        "   1. if x <0 print 'is a negative value'\n",
        "   2. else if 0 <x <5 print 'is less than 5'\n",
        "   3. else if 5 <x <100 print 'is less than 100'\n",
        "   4. otherwise print 'is a large number'"
      ]
    },
    {
      "cell_type": "code",
      "metadata": {
        "ExecuteTime": {
          "end_time": "2021-05-08T16:46:05.714655Z",
          "start_time": "2021-05-08T16:46:05.695706Z"
        },
        "id": "9GTzvJhAvufp",
        "colab": {
          "base_uri": "https://localhost:8080/"
        },
        "outputId": "97d924ca-5d7f-42ec-9e82-74820c5f64d5"
      },
      "source": [
        "x = 15\n",
        "if x <0:\n",
        "  print(\"15 is a negative value \")\n",
        "elif 0<x<5:\n",
        "  print(\"15 is less than 5\")\n",
        "elif 5<x<100:\n",
        "  print(\"15 is less than 100\")\n",
        "else:\n",
        "  print(\"15 is a large number\")\n"
      ],
      "execution_count": null,
      "outputs": [
        {
          "output_type": "stream",
          "name": "stdout",
          "text": [
            "15 is less than 100\n"
          ]
        }
      ]
    },
    {
      "cell_type": "markdown",
      "metadata": {
        "id": "hfli-mEUvulI"
      },
      "source": [
        "## while loop\n",
        "create a while loop that writes only the even numbers less than 20 on the screen"
      ]
    },
    {
      "cell_type": "code",
      "metadata": {
        "id": "GGJuLm94vup_",
        "colab": {
          "base_uri": "https://localhost:8080/"
        },
        "outputId": "0a12e8d2-1f19-465e-8b42-fcf982d1644e"
      },
      "source": [
        "x = 0\n",
        "while x < 20:\n",
        "    if x % 2 == 0:\n",
        "        print(x)\n",
        "    x +=1"
      ],
      "execution_count": null,
      "outputs": [
        {
          "output_type": "stream",
          "name": "stdout",
          "text": [
            "0\n",
            "2\n",
            "4\n",
            "6\n",
            "8\n",
            "10\n",
            "12\n",
            "14\n",
            "16\n",
            "18\n"
          ]
        }
      ]
    },
    {
      "cell_type": "markdown",
      "metadata": {
        "id": "licgYB6viYBx"
      },
      "source": [
        "creates a while loop that writes on the screen only the even numbers less than 20 excluding 10 and when finished writes \"Finished!\"\n"
      ]
    },
    {
      "cell_type": "code",
      "metadata": {
        "id": "2JccLxtD1xQV",
        "colab": {
          "base_uri": "https://localhost:8080/"
        },
        "outputId": "067612cc-7439-4146-f730-435d511a7c8b"
      },
      "source": [
        "x = 0\n",
        "while x < 20:\n",
        "    \n",
        "    if x % 2 == 0 and x !=10 :\n",
        "        print(x)\n",
        "    x +=1\n",
        "print(\"Finished!\")"
      ],
      "execution_count": null,
      "outputs": [
        {
          "output_type": "stream",
          "name": "stdout",
          "text": [
            "0\n",
            "2\n",
            "4\n",
            "6\n",
            "8\n",
            "12\n",
            "14\n",
            "16\n",
            "18\n",
            "Finished!\n"
          ]
        }
      ]
    },
    {
      "cell_type": "markdown",
      "metadata": {
        "id": "7IIG2ZCl1xYS"
      },
      "source": [
        "## for loop\n",
        "create a for loop that prints the multiples of 5 up to the number 100 except those divisible by 3"
      ]
    },
    {
      "cell_type": "code",
      "metadata": {
        "id": "Q4OWG06j1xgD",
        "colab": {
          "base_uri": "https://localhost:8080/"
        },
        "outputId": "3d331227-d58e-4699-cd10-d827ad36e4ca"
      },
      "source": [
        "x=[] \n",
        "for i in range(0, 101): \n",
        "    if i%5==0 and i%3 !=0: \n",
        "        x.append(i) \n",
        "print(x) "
      ],
      "execution_count": null,
      "outputs": [
        {
          "output_type": "stream",
          "name": "stdout",
          "text": [
            "[5, 10, 20, 25, 35, 40, 50, 55, 65, 70, 80, 85, 95, 100]\n"
          ]
        }
      ]
    },
    {
      "cell_type": "markdown",
      "metadata": {
        "id": "WiDSgszk1xoB"
      },
      "source": [
        "with a for loop, iterate over the list printing the item and stops the loop if a number> 10 is found"
      ]
    },
    {
      "cell_type": "code",
      "metadata": {
        "id": "psDJhgdR1xuS",
        "colab": {
          "base_uri": "https://localhost:8080/"
        },
        "outputId": "d49dbc4d-b484-489b-b95e-2ee5a85539a3"
      },
      "source": [
        "mylist = [1,5,2,4,8,22,4,643]\n",
        "for i in mylist:\n",
        "    if i >= 10:\n",
        "        print(\"Next number is bigger than 10\")\n",
        "        break\n",
        "   \n",
        "    else:\n",
        "        print(i)\n",
        "    i+=1"
      ],
      "execution_count": null,
      "outputs": [
        {
          "output_type": "stream",
          "name": "stdout",
          "text": [
            "1\n",
            "5\n",
            "2\n",
            "4\n",
            "8\n",
            "Next number is bigger than 10\n"
          ]
        }
      ]
    },
    {
      "cell_type": "markdown",
      "metadata": {
        "id": "GB0xMq991x05"
      },
      "source": [
        "# Comprehensions"
      ]
    },
    {
      "cell_type": "markdown",
      "metadata": {
        "id": "Dd_j8JznEaNm"
      },
      "source": [
        "- create a list using a for loop on a single line that takes the values from 0 to 21 in intervals of 3\n",
        "- create a list by means of a for loop in a single line that takes the values from 0 to 21 in intervals of 3 except the values divisible by 2 that substitutes them for the string 'even'\n",
        "- defines a dictionary with a for loop with keys the numbers from 1 to 10 and with True or False values depending on whether they are odd or even"
      ]
    },
    {
      "cell_type": "code",
      "metadata": {
        "id": "Pq6kadLx1x6u",
        "colab": {
          "base_uri": "https://localhost:8080/"
        },
        "outputId": "5098960e-d9cc-4cea-a7e5-ae0b4e7871b2"
      },
      "source": [
        "for number in range(0,21,3):\n",
        "    print(number)\n",
        "###################\n",
        "for number in range(0,21,3):\n",
        "   if number %2==1: \n",
        "    print(number)\n",
        "###################\n",
        "numbers = range(10)\n",
        "\n",
        "for n in numbers:\n",
        "    if n%2==0:\n",
        "        print(True)\n",
        "    else:\n",
        "      print(False)    \n",
        "\n"
      ],
      "execution_count": null,
      "outputs": [
        {
          "output_type": "stream",
          "name": "stdout",
          "text": [
            "0\n",
            "3\n",
            "6\n",
            "9\n",
            "12\n",
            "15\n",
            "18\n",
            "3\n",
            "9\n",
            "15\n",
            "True\n",
            "False\n",
            "True\n",
            "False\n",
            "True\n",
            "False\n",
            "True\n",
            "False\n",
            "True\n",
            "False\n"
          ]
        }
      ]
    },
    {
      "cell_type": "markdown",
      "metadata": {
        "id": "ME0rk_zy1yAX"
      },
      "source": [
        "# Functions"
      ]
    },
    {
      "cell_type": "markdown",
      "metadata": {
        "id": "CDNARWrzEgtE"
      },
      "source": [
        "- define a function that prints \"returning value 2\" and returns the value 2\n",
        "- define a function that takes two integer values and returns the power of the first and second\n",
        "- defines a function that takes two integer values and returns the power of the first and second, but if the exponent is greater than 20 it prints \"the exponent is too high\" and returns 0. It must have as predefined values: base = 5, exponent = 3\n",
        "- define the power function with a lambda function on one line and check that it works\n",
        "- define a generator function that returns the powers of 2 in ascending order from the initial exponent = 0"
      ]
    },
    {
      "cell_type": "code",
      "metadata": {
        "id": "J7dTioLu6OQY",
        "colab": {
          "base_uri": "https://localhost:8080/"
        },
        "outputId": "b6ecafae-af0a-40a0-91c4-a92e96a3df6c"
      },
      "source": [
        "def myfunc():\n",
        "    return 2\n",
        "print(\"returning value 2\")\n",
        "\n",
        "\n",
        "\n",
        "def exp(x,y):\n",
        "    x=x**2\n",
        "    y=y**2\n",
        "    return (x,y)\n",
        "\n",
        "print(exp(2,5))\n",
        "\n",
        "\n",
        "\n",
        "def newexp(x,y):\n",
        "    if(y>20):\n",
        "        print(\"the exponent is too high\")\n",
        "        return 0\n",
        "    else:\n",
        "        x=x**y\n",
        "        return x\n",
        "print(newexp(5,3))\n",
        "\n",
        "\n",
        "\n",
        "exp=lambda a : a * a\n",
        "print(type(exp))\n",
        "print(exp(5))\n",
        "\n",
        "\n",
        "\n",
        "\n",
        "def squares(n):\n",
        "    power = n\n",
        "    square_list = []\n",
        "    for i in range(0,n+1):\n",
        "      square_list.append(2 ** i)\n",
        "    return square_list\n",
        "\n",
        "print(squares(10))"
      ],
      "execution_count": null,
      "outputs": [
        {
          "output_type": "stream",
          "name": "stdout",
          "text": [
            "returning value 2\n",
            "(4, 25)\n",
            "125\n",
            "<class 'function'>\n",
            "25\n",
            "[1, 2, 4, 8, 16, 32, 64, 128, 256, 512, 1024]\n"
          ]
        }
      ]
    },
    {
      "cell_type": "markdown",
      "metadata": {
        "id": "mhsmsETQEr77"
      },
      "source": [
        "Please check and understand the scope of the variables commenting and uncommenting in the following code:\n",
        "```python\n",
        "x='global_Name'\n",
        "def myfunc1():\n",
        "    #global x\n",
        "    x = 'myfunc1_name'\n",
        "    def myfunc2():\n",
        "        #global x\n",
        "        nonlocal x\n",
        "        #x = 'myfunc2_name'\n",
        "        return x\n",
        "    return myfunc2()    \n",
        "\n",
        "print(myfunc1())\n",
        "print(x)\n",
        "```\n",
        "- how does the command nonlocal work?\n",
        "- if a variable used within a function is defined as global, what does it imply?"
      ]
    },
    {
      "cell_type": "code",
      "metadata": {
        "id": "qd-RzicdEseL",
        "colab": {
          "base_uri": "https://localhost:8080/",
          "height": 0
        },
        "outputId": "abca4be0-22c2-4ee4-d6d1-55b6f05667c0"
      },
      "source": [
        "print(\"The output will be like : \\nmyfunc1_name\\nglobal_Name\")\n",
        "#If we call the myfunc1() it prints the variable which is inside the function.\n",
        "#If we print x the output will be global_Name because it is global variable."
      ],
      "execution_count": 17,
      "outputs": [
        {
          "output_type": "stream",
          "name": "stdout",
          "text": [
            "The output will be like : \n",
            "myfunc1_name\n",
            "global_Name\n"
          ]
        }
      ]
    },
    {
      "cell_type": "markdown",
      "metadata": {
        "id": "4uZgcFGO_dNE"
      },
      "source": [
        "# Exceptions"
      ]
    },
    {
      "cell_type": "markdown",
      "metadata": {
        "id": "l8oX_IYQGKSL"
      },
      "source": [
        "Add try except statements that catch the error. print to screen then run second line"
      ]
    },
    {
      "cell_type": "code",
      "metadata": {
        "id": "Cj5pAkOR1yFI",
        "colab": {
          "base_uri": "https://localhost:8080/",
          "height": 0
        },
        "outputId": "f8416d53-a65c-4aa7-e2ac-6a7b90a7c059"
      },
      "source": [
        "try:\n",
        "  a = 15/'s'\n",
        "  print(5*2)\n",
        "except:\n",
        "  print(\"unsupported operand type(s) for /: 'int' and 'str'\")"
      ],
      "execution_count": 18,
      "outputs": [
        {
          "output_type": "stream",
          "name": "stdout",
          "text": [
            "unsupported operand type(s) for /: 'int' and 'str'\n"
          ]
        }
      ]
    },
    {
      "cell_type": "markdown",
      "metadata": {
        "id": "eI4sYHjj1yLd"
      },
      "source": [
        "prints at each step of the loop: numerator, denominator, result, in case of numerical error catch the exception and print the reason for the error"
      ]
    },
    {
      "cell_type": "code",
      "metadata": {
        "id": "oMp865oc1yPb",
        "colab": {
          "base_uri": "https://localhost:8080/",
          "height": 0
        },
        "outputId": "95b5da63-adae-47ed-b206-cc985cd0737c"
      },
      "source": [
        "try:\n",
        "  for i in range(0,5):\n",
        "    for j in [1,12,0]:\n",
        "      res = i/j\n",
        "      print(i,j,res)\n",
        "except(ZeroDivisionError):\n",
        "  i=0\n"
      ],
      "execution_count": 19,
      "outputs": [
        {
          "output_type": "stream",
          "name": "stdout",
          "text": [
            "0 1 0.0\n",
            "0 12 0.0\n"
          ]
        }
      ]
    },
    {
      "cell_type": "markdown",
      "metadata": {
        "id": "vzTr_syl1yf_"
      },
      "source": [
        "capture the different exceptions by printing a different message on the screen, if there is no exception do not show anything on the screen"
      ]
    },
    {
      "cell_type": "code",
      "metadata": {
        "id": "y-q36otBDH_N",
        "colab": {
          "base_uri": "https://localhost:8080/",
          "height": 0
        },
        "outputId": "10415ff3-855b-4cce-ad6d-5704bcac9184"
      },
      "source": [
        "try:\n",
        "  for den in [1,2,3,0,'hola',5]:\n",
        "    res = 10/den\n",
        "    pass\n",
        "except ZeroDivisionError:\n",
        "    print(ZeroDivisionError)"
      ],
      "execution_count": 4,
      "outputs": [
        {
          "output_type": "stream",
          "name": "stdout",
          "text": [
            "<class 'ZeroDivisionError'>\n"
          ]
        }
      ]
    },
    {
      "cell_type": "markdown",
      "metadata": {
        "id": "AxkDckZC1yVE"
      },
      "source": [
        "raise an exception if a> 12"
      ]
    },
    {
      "cell_type": "code",
      "metadata": {
        "id": "0MY-xre_1yZu",
        "colab": {
          "base_uri": "https://localhost:8080/",
          "height": 200
        },
        "outputId": "b2360701-8052-480b-9631-9377445c058f"
      },
      "source": [
        "for i in range(2,20,2): \n",
        "  pass\n",
        "if(i>12):\n",
        "  raise ValueError(\"This number is bigger than 12\")"
      ],
      "execution_count": 20,
      "outputs": [
        {
          "output_type": "error",
          "ename": "ValueError",
          "evalue": "ignored",
          "traceback": [
            "\u001b[0;31m---------------------------------------------------------------------------\u001b[0m",
            "\u001b[0;31mValueError\u001b[0m                                Traceback (most recent call last)",
            "\u001b[0;32m<ipython-input-20-9f78637b98e8>\u001b[0m in \u001b[0;36m<module>\u001b[0;34m\u001b[0m\n\u001b[1;32m      2\u001b[0m   \u001b[0;32mpass\u001b[0m\u001b[0;34m\u001b[0m\u001b[0;34m\u001b[0m\u001b[0m\n\u001b[1;32m      3\u001b[0m \u001b[0;32mif\u001b[0m\u001b[0;34m(\u001b[0m\u001b[0mi\u001b[0m\u001b[0;34m>\u001b[0m\u001b[0;36m12\u001b[0m\u001b[0;34m)\u001b[0m\u001b[0;34m:\u001b[0m\u001b[0;34m\u001b[0m\u001b[0;34m\u001b[0m\u001b[0m\n\u001b[0;32m----> 4\u001b[0;31m   \u001b[0;32mraise\u001b[0m \u001b[0mValueError\u001b[0m\u001b[0;34m(\u001b[0m\u001b[0;34m\"This number is bigger than 12\"\u001b[0m\u001b[0;34m)\u001b[0m\u001b[0;34m\u001b[0m\u001b[0;34m\u001b[0m\u001b[0m\n\u001b[0m",
            "\u001b[0;31mValueError\u001b[0m: This number is bigger than 12"
          ]
        }
      ]
    },
    {
      "cell_type": "markdown",
      "metadata": {
        "id": "d5o5VjRWfOfI"
      },
      "source": [
        "# Regex"
      ]
    },
    {
      "cell_type": "markdown",
      "metadata": {
        "id": "FKQcmvD8GQ50"
      },
      "source": [
        "Write a Python program that matches a string that has an 'a' or an 'A' followed by three 'b' for each string in the following list:\n",
        "text_list = ['aab', 'aab_cbbbc', 'aab_', 'aab_Abbbc', '_acb_', 'Aaab_abbbc', '_acb']"
      ]
    },
    {
      "cell_type": "code",
      "metadata": {
        "id": "n5qsHODbfWUl",
        "colab": {
          "base_uri": "https://localhost:8080/",
          "height": 0
        },
        "outputId": "8464bcaa-659a-4d56-94da-5b76ead7d2fe"
      },
      "source": [
        "import re\n",
        "text_list = ['aab', 'aab_cbbbc', 'aab_', 'aab_Abbbc', '_acb_', 'Aaab_abbbc', '_acb']\n",
        "def text_list(text):\n",
        "        patterns = 'a*b{3}'\n",
        "        if re.search(patterns,  text):\n",
        "                return('Found a match!')\n",
        "        else:\n",
        "                return('Not matched!')\n",
        "print(text_list('aab'))\n",
        "print(text_list('aab_cbbbc'))\n",
        "print(text_list('aab_')) \n",
        "print(text_list('aab_Abbbc')) \n",
        "print(text_list('_acb_')) \n",
        "print(text_list('Aaab_abbbc')) \n",
        "print(text_list('_acb')) \n"
      ],
      "execution_count": 21,
      "outputs": [
        {
          "output_type": "stream",
          "name": "stdout",
          "text": [
            "Not matched!\n",
            "Found a match!\n",
            "Not matched!\n",
            "Found a match!\n",
            "Not matched!\n",
            "Found a match!\n",
            "Not matched!\n"
          ]
        }
      ]
    },
    {
      "cell_type": "markdown",
      "metadata": {
        "id": "0m0jY_I_geMP"
      },
      "source": [
        "Write a Python program that matches a string that has an 'a' or an 'A' followed by anything, ending in 'b' (considering uppercase or lowercase text) for each string in the following list:, \n",
        "text_list = ['aab', 'aab_cbbbc', 'aab_', 'aab_Abbbc', '_acb_', 'Aaab_abbbc', '_acb']"
      ]
    },
    {
      "cell_type": "code",
      "metadata": {
        "id": "D_yDqMLcgry2",
        "colab": {
          "base_uri": "https://localhost:8080/",
          "height": 0
        },
        "outputId": "8d38153c-4879-4435-f804-18c34e031433"
      },
      "source": [
        "import re\n",
        "text_list = ['aab', 'aab_cbbbc', 'aab_', 'aab_Abbbc', '_acb_', 'Aaab_abbbc', '_acb']\n",
        "def text_list(text):\n",
        "        patterns = 'a.*?b$'\n",
        "        if re.search(patterns,  text):\n",
        "                return('Found a match!')\n",
        "        else:\n",
        "                return('Not matched!')\n",
        "print(text_list('aab'))\n",
        "print(text_list('aab_cbbbc'))\n",
        "print(text_list('aab_')) \n",
        "print(text_list('aab_Abbbc')) \n",
        "print(text_list('_acb_')) \n",
        "print(text_list('Aaab_abbbc')) \n",
        "print(text_list('_acb')) "
      ],
      "execution_count": 22,
      "outputs": [
        {
          "output_type": "stream",
          "name": "stdout",
          "text": [
            "Found a match!\n",
            "Not matched!\n",
            "Not matched!\n",
            "Not matched!\n",
            "Not matched!\n",
            "Not matched!\n",
            "Found a match!\n"
          ]
        }
      ]
    },
    {
      "cell_type": "markdown",
      "metadata": {
        "id": "3YsArzfpg_0d"
      },
      "source": [
        "Write a Python program to find sequences of lowercase letters joined with a underscore for each string in the following list:\n",
        "text_list = ['aab', 'aab_cbbbc', 'aab_', 'aab_Abbbc', '_acb_', 'Aaab_abbbc', '_acb']"
      ]
    },
    {
      "cell_type": "code",
      "metadata": {
        "id": "IMAYQ_RBg7cM",
        "colab": {
          "base_uri": "https://localhost:8080/",
          "height": 0
        },
        "outputId": "ae704f1f-4dc7-45d9-8cfa-f8a88dae02a0"
      },
      "source": [
        "import re\n",
        "text_list = ['aab', 'aab_cbbbc', 'aab_', 'aab_Abbbc', '_acb_', 'Aaab_abbbc', '_acb']\n",
        "def text_list(text):\n",
        "        patterns = '^[a-z]+_[a-z]+$'\n",
        "        if re.search(patterns,  text):\n",
        "                return('Found a match!')\n",
        "        else:\n",
        "                return('Not matched!')\n",
        "print(text_list('aab'))\n",
        "print(text_list('aab_cbbbc'))\n",
        "print(text_list('aab_')) \n",
        "print(text_list('aab_Abbbc')) \n",
        "print(text_list('_acb_')) \n",
        "print(text_list('Aaab_abbbc')) \n",
        "print(text_list('_acb')) "
      ],
      "execution_count": 23,
      "outputs": [
        {
          "output_type": "stream",
          "name": "stdout",
          "text": [
            "Not matched!\n",
            "Found a match!\n",
            "Not matched!\n",
            "Not matched!\n",
            "Not matched!\n",
            "Not matched!\n",
            "Not matched!\n"
          ]
        }
      ]
    },
    {
      "cell_type": "markdown",
      "metadata": {
        "id": "4fLfN8c1hrXV"
      },
      "source": [
        "Write a Python program to remove leading zeros from an IP address.\n",
        "ip = \"216.08.094.196\""
      ]
    },
    {
      "cell_type": "code",
      "metadata": {
        "id": "l-mepzIaiE_e",
        "colab": {
          "base_uri": "https://localhost:8080/",
          "height": 0
        },
        "outputId": "ed6dc18a-aadf-4f76-b602-75afe2a3899e"
      },
      "source": [
        "import re\n",
        "ip = \"216.08.094.196\"\n",
        "string = re.sub('\\.[0]*', '.', ip)\n",
        "print(string)\n"
      ],
      "execution_count": 24,
      "outputs": [
        {
          "output_type": "stream",
          "name": "stdout",
          "text": [
            "216.8.94.196\n"
          ]
        }
      ]
    },
    {
      "cell_type": "markdown",
      "metadata": {
        "id": "rFab9YcHiNk9"
      },
      "source": [
        "Find all the IPs number in the following HTML:\n",
        "```html\n",
        "<html><head><title>Current IP Check</title></head><body>Current IP Address: 165.91.15.131 216.8.94.196</body></html>\n",
        "```"
      ]
    },
    {
      "cell_type": "code",
      "metadata": {
        "id": "ofzgVqOJliIl",
        "colab": {
          "base_uri": "https://localhost:8080/",
          "height": 0
        },
        "outputId": "c4bcf8ac-38a3-4cbf-9c2e-71095d68f1f6"
      },
      "source": [
        "import re\n",
        "text = \"<html><head><title>Current IP Check</title></head><body>Current IP Address: 165.91.15.131 216.8.94.196</body></html>\"\n",
        "ip = re.findall( r'[0-9]+(?:\\.[0-9]+){3}', text )\n",
        "print(ip)"
      ],
      "execution_count": 25,
      "outputs": [
        {
          "output_type": "stream",
          "name": "stdout",
          "text": [
            "['165.91.15.131', '216.8.94.196']\n"
          ]
        }
      ]
    },
    {
      "cell_type": "markdown",
      "metadata": {
        "id": "M-6zY-kmmc00"
      },
      "source": [
        "Write a Python program to separate and print the numbers of a given string.\n",
        "text = \"Ten 10, Twenty 20, Thirty 30\""
      ]
    },
    {
      "cell_type": "code",
      "metadata": {
        "id": "VYm9f-z9meoV",
        "colab": {
          "base_uri": "https://localhost:8080/",
          "height": 0
        },
        "outputId": "87b9d13f-466a-4188-d29a-15e682a865b8"
      },
      "source": [
        "import re\n",
        "\n",
        "text = \"Ten 10, Twenty 20, Thirty 30\"\n",
        "result = re.split(\"\\D+\", text)\n",
        "\n",
        "for element in result:\n",
        "  print(element)"
      ],
      "execution_count": 26,
      "outputs": [
        {
          "output_type": "stream",
          "name": "stdout",
          "text": [
            "\n",
            "10\n",
            "20\n",
            "30\n"
          ]
        }
      ]
    },
    {
      "cell_type": "markdown",
      "metadata": {
        "id": "txvoCznKfVSw"
      },
      "source": [
        "# Object Oriented Programming"
      ]
    },
    {
      "cell_type": "markdown",
      "metadata": {
        "id": "NsZrfmR4Hhlr"
      },
      "source": [
        "Given the following class hierarchy, print the output of a, b and c methods, from a C object.\n",
        "```python\n",
        "\n",
        "\n",
        "\n",
        "class A:\n",
        "    def __init__(self):\n",
        "        print(\"Soy de clase A\")\n",
        "\n",
        "    def a(self):\n",
        "        print(\"Este método lo heredo de A\")\n",
        "\n",
        "class B:\n",
        "    def __init__(self):\n",
        "        print(\"Soy de clase B\")\n",
        "        \n",
        "    def b(self):\n",
        "        print(\"Este método lo heredo de B\")\n",
        "\n",
        "class C(B,A):\n",
        "    def c(self):\n",
        "        print(\"Este método es de C\")\n",
        "\n",
        "```"
      ]
    },
    {
      "cell_type": "code",
      "metadata": {
        "id": "wfkBMOeWfS_9",
        "colab": {
          "base_uri": "https://localhost:8080/",
          "height": 0
        },
        "outputId": "83a69d83-05a6-4dfa-a2f1-f6e25969a1ce"
      },
      "source": [
        "from typing_extensions import Self\n",
        "class A:\n",
        "    def __init__(self):\n",
        "        print(\"Soy de clase A\")\n",
        "\n",
        "    def a(self):\n",
        "        print(\"Este método lo heredo de A\")\n",
        "\n",
        "class B:\n",
        "    def __init__(self):\n",
        "        print(\"Soy de clase B\")\n",
        "        \n",
        "    def b(self):\n",
        "        print(\"Este método lo heredo de B\")\n",
        "\n",
        "class C(B,A):\n",
        "    def c(self):\n",
        "        print(\"Este método es de C\")\n",
        "\n",
        "print(C.a(Self))\n",
        "print(C.b(Self))\n",
        "print(C.c(Self))"
      ],
      "execution_count": 27,
      "outputs": [
        {
          "output_type": "stream",
          "name": "stdout",
          "text": [
            "Este método lo heredo de A\n",
            "None\n",
            "Este método lo heredo de B\n",
            "None\n",
            "Este método es de C\n",
            "None\n"
          ]
        }
      ]
    },
    {
      "cell_type": "markdown",
      "metadata": {
        "id": "Zmh8ebTom86U"
      },
      "source": [
        "Given the following class hierarchy:\n",
        "- understand their building and relationships\n",
        "- build an electric car (manufacturer: 'tesla', model: 'model s', year: 2016)\n",
        "- print information about the initial battery of this car and after upgrading it.\n",
        "\n",
        "```python\n",
        "class Car():\n",
        "    \"\"\"A simple attempt to represent a car.\"\"\"\n",
        "\n",
        "    def __init__(self, manufacturer, model, year):\n",
        "        \"\"\"Initialize attributes to describe a car.\"\"\"\n",
        "        self.manufacturer = manufacturer\n",
        "        self.model = model\n",
        "        self.year = year\n",
        "        self.odometer_reading = 0\n",
        "        \n",
        "    def get_descriptive_name(self):\n",
        "        \"\"\"Return a neatly formatted descriptive name.\"\"\"\n",
        "        long_name = str(self.year) + ' ' + self.manufacturer + ' ' + self.model\n",
        "        return long_name.title()\n",
        "    \n",
        "    def read_odometer(self):\n",
        "        \"\"\"Print a statement showing the car's mileage.\"\"\"\n",
        "        print(\"This car has \" + str(self.odometer_reading) + \" miles on it.\")\n",
        "        \n",
        "    def update_odometer(self, mileage):\n",
        "        \"\"\"\n",
        "        Set the odometer reading to the given value.\n",
        "        Reject the change if it attempts to roll the odometer back.\n",
        "        \"\"\"\n",
        "        if mileage >= self.odometer_reading:\n",
        "            self.odometer_reading = mileage\n",
        "        else:\n",
        "            print(\"You can't roll back an odometer!\")\n",
        "    \n",
        "    def increment_odometer(self, miles):\n",
        "        \"\"\"Add the given amount to the odometer reading.\"\"\"\n",
        "        self.odometer_reading += miles\n",
        "\n",
        "class Battery():\n",
        "    \"\"\"A simple attempt to model a battery for an electric car.\"\"\"\n",
        "\n",
        "    def __init__(self, battery_size=60):\n",
        "        \"\"\"Initialize the batteery's attributes.\"\"\"\n",
        "        self.battery_size = battery_size\n",
        "\n",
        "    def describe_battery(self):\n",
        "        \"\"\"Print a statement describing the battery size.\"\"\"\n",
        "        print(\"This car has a \" + str(self.battery_size) + \"-kWh battery.\")\n",
        "        \n",
        "    def get_range(self):\n",
        "        \"\"\"Print a statement about the range this battery provides.\"\"\"\n",
        "        if self.battery_size == 60:\n",
        "            range = 140\n",
        "        elif self.battery_size == 85:\n",
        "            range = 185\n",
        "            \n",
        "        message = \"This car can go approximately \" + str(range)\n",
        "        message += \" miles on a full charge.\"\n",
        "        print(message)\n",
        "        \n",
        "    def upgrade_battery(self):\n",
        "        \"\"\"Upgrade the battery if possible.\"\"\"\n",
        "        if self.battery_size == 60:\n",
        "            self.battery_size = 85\n",
        "            print(\"Upgraded the battery to 85 kWh.\")\n",
        "        else:\n",
        "            print(\"The battery is already upgraded.\")\n",
        "    \n",
        "        \n",
        "class ElectricCar(Car):\n",
        "    \"\"\"Models aspects of a car, specific to electric vehicles.\"\"\"\n",
        "    \n",
        "    def __init__(self, manufacturer, model, year):\n",
        "        \"\"\"\n",
        "        Initialize attributes of the parent class.\n",
        "        Then initialize attributes specific to an electric car.\n",
        "        \"\"\"\n",
        "        super().__init__(manufacturer, model, year)\n",
        "        self.battery = Battery()\n",
        "```\n"
      ]
    },
    {
      "cell_type": "code",
      "metadata": {
        "id": "XSCt1x_RnS7c",
        "colab": {
          "base_uri": "https://localhost:8080/",
          "height": 0
        },
        "outputId": "753a8145-82ca-4822-a53f-fd8e06494fd7"
      },
      "source": [
        "class Car():\n",
        "    \"\"\"A simple attempt to represent a car.\"\"\"\n",
        "\n",
        "    def __init__(self, manufacturer, model, year):\n",
        "        \"\"\"Initialize attributes to describe a car.\"\"\"\n",
        "        self.manufacturer = \"tesla\"\n",
        "        self.model = \"model s\"\n",
        "        self.year = 2016\n",
        "        self.odometer_reading = 0\n",
        "        \n",
        "    def get_descriptive_name(self):\n",
        "        \"\"\"Return a neatly formatted descriptive name.\"\"\"\n",
        "        long_name = str(self.year) + ' ' + self.manufacturer + ' ' + self.model\n",
        "        return long_name.title()\n",
        "    \n",
        "    def read_odometer(self):\n",
        "        \"\"\"Print a statement showing the car's mileage.\"\"\"\n",
        "        print(\"This car has \" + str(self.odometer_reading) + \" miles on it.\")\n",
        "        \n",
        "    def update_odometer(self, mileage):\n",
        "        \"\"\"\n",
        "        Set the odometer reading to the given value.\n",
        "        Reject the change if it attempts to roll the odometer back.\n",
        "        \"\"\"\n",
        "        if mileage >= self.odometer_reading:\n",
        "            self.odometer_reading = mileage\n",
        "        else:\n",
        "            print(\"You can't roll back an odometer!\")\n",
        "    \n",
        "    def increment_odometer(self, miles):\n",
        "        \"\"\"Add the given amount to the odometer reading.\"\"\"\n",
        "        self.odometer_reading += miles\n",
        "\n",
        "class Battery():\n",
        "    \"\"\"A simple attempt to model a battery for an electric car.\"\"\"\n",
        "\n",
        "    def __init__(self, battery_size=60):\n",
        "        \"\"\"Initialize the batteery's attributes.\"\"\"\n",
        "        self.battery_size = battery_size\n",
        "\n",
        "    def describe_battery(self):\n",
        "        \"\"\"Print a statement describing the battery size.\"\"\"\n",
        "        print(\"This car has a \" + str(self.battery_size) + \"-kWh battery.\")\n",
        "        \n",
        "    def get_range(self):\n",
        "        \"\"\"Print a statement about the range this battery provides.\"\"\"\n",
        "        if self.battery_size == 60:\n",
        "            range = 140\n",
        "        elif self.battery_size == 85:\n",
        "            range = 185\n",
        "            \n",
        "        message = \"This car can go approximately \" + str(range)\n",
        "        message += \" miles on a full charge.\"\n",
        "        print(message)\n",
        "        \n",
        "    def upgrade_battery(self):\n",
        "        \"\"\"Upgrade the battery if possible.\"\"\"\n",
        "        if self.battery_size == 60:\n",
        "            self.battery_size = 85\n",
        "            print(\"Upgraded the battery to 85 kWh.\")\n",
        "        else:\n",
        "            print(\"The battery is already upgraded.\")\n",
        "    \n",
        "        \n",
        "class ElectricCar(Car):\n",
        "    \"\"\"Models aspects of a car, specific to electric vehicles.\"\"\"\n",
        "    \n",
        "    def __init__(self, manufacturer, model, year):\n",
        "        \"\"\"\n",
        "        Initialize attributes of the parent class.\n",
        "        Then initialize attributes specific to an electric car.\n",
        "        \"\"\"\n",
        "        super().__init__(manufacturer, model, year)\n",
        "        self.battery = Battery()\n",
        "\n",
        "\n",
        "\n",
        "\n",
        "p1=ElectricCar(\"Tesla\",\"model s\",\"2016\")\n",
        "print(p1.get_descriptive_name())\n",
        "my_tesla = ElectricCar('tesla', 'model s', 2016)\n",
        "my_tesla.battery.describe_battery()\n",
        "\n",
        "\n",
        "my_tesla.battery.upgrade_battery()\n",
        "my_tesla.battery.describe_battery()\n",
        "\n",
        "\n",
        "my_tesla.battery.upgrade_battery()\n",
        "my_tesla.battery.describe_battery()"
      ],
      "execution_count": 29,
      "outputs": [
        {
          "output_type": "stream",
          "name": "stdout",
          "text": [
            "2016 Tesla Model S\n",
            "This car has a 60-kWh battery.\n",
            "Upgraded the battery to 85 kWh.\n",
            "This car has a 85-kWh battery.\n",
            "The battery is already upgraded.\n",
            "This car has a 85-kWh battery.\n"
          ]
        }
      ]
    }
  ]
}