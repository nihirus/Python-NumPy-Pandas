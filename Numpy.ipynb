{
  "nbformat": 4,
  "nbformat_minor": 0,
  "metadata": {
    "hide_input": false,
    "kernelspec": {
      "display_name": "Python 3",
      "language": "python",
      "name": "python3"
    },
    "language_info": {
      "codemirror_mode": {
        "name": "ipython",
        "version": 3
      },
      "file_extension": ".py",
      "mimetype": "text/x-python",
      "name": "python",
      "nbconvert_exporter": "python",
      "pygments_lexer": "ipython3",
      "version": "3.8.2"
    },
    "toc": {
      "base_numbering": 1,
      "nav_menu": {},
      "number_sections": false,
      "sideBar": true,
      "skip_h1_title": false,
      "title_cell": "Table of Contents",
      "title_sidebar": "Contents",
      "toc_cell": false,
      "toc_position": {},
      "toc_section_display": true,
      "toc_window_display": false
    },
    "varInspector": {
      "cols": {
        "lenName": 16,
        "lenType": 16,
        "lenVar": 40
      },
      "kernels_config": {
        "python": {
          "delete_cmd_postfix": "",
          "delete_cmd_prefix": "del ",
          "library": "var_list.py",
          "varRefreshCmd": "print(var_dic_list())"
        },
        "r": {
          "delete_cmd_postfix": ") ",
          "delete_cmd_prefix": "rm(",
          "library": "var_list.r",
          "varRefreshCmd": "cat(var_dic_list()) "
        }
      },
      "types_to_exclude": [
        "module",
        "function",
        "builtin_function_or_method",
        "instance",
        "_Feature"
      ],
      "window_display": false
    },
    "colab": {
      "provenance": [],
      "collapsed_sections": [],
      "toc_visible": true
    }
  },
  "cells": [
    {
      "cell_type": "markdown",
      "metadata": {
        "id": "aXf_ao3MRg37"
      },
      "source": [
        "# 1 - Numpy introduction"
      ]
    },
    {
      "cell_type": "markdown",
      "metadata": {
        "id": "4Yx3AvOSSi-3"
      },
      "source": [
        "Import the numpy package under the name np\n"
      ]
    },
    {
      "cell_type": "code",
      "metadata": {
        "id": "0_8FqomrSjKg"
      },
      "source": [
        "import numpy as np"
      ],
      "execution_count": 3,
      "outputs": []
    },
    {
      "cell_type": "markdown",
      "metadata": {
        "id": "E-NcZjgeSjS3"
      },
      "source": [
        "Print the numpy version"
      ]
    },
    {
      "cell_type": "code",
      "metadata": {
        "id": "DG0Bu6RLSjXt",
        "colab": {
          "base_uri": "https://localhost:8080/"
        },
        "outputId": "e286a9d2-c247-4ad1-9149-7a24356fb49c"
      },
      "source": [
        "print(np)"
      ],
      "execution_count": 4,
      "outputs": [
        {
          "output_type": "stream",
          "name": "stdout",
          "text": [
            "<module 'numpy' from '/usr/local/lib/python3.7/dist-packages/numpy/__init__.py'>\n"
          ]
        }
      ]
    },
    {
      "cell_type": "markdown",
      "metadata": {
        "id": "_PMbHHpLRhDl"
      },
      "source": [
        "# 2 - Definition, creation & atributes"
      ]
    },
    {
      "cell_type": "markdown",
      "metadata": {
        "id": "yg5cLPbJSjdY"
      },
      "source": [
        "* Define a 3 lenght numpy array\n",
        "* Define a 2D numpy array\n",
        "* Create a null vector of size 10 \n",
        "* Create a vector with values ranging from 10 to 49 \n",
        "\n"
      ]
    },
    {
      "cell_type": "code",
      "metadata": {
        "id": "FRb40EZrSjiL"
      },
      "source": [
        "myarray = np.array([1,2,3])\n",
        "myarray = np.array([[2,3],[5,6]])\n",
        "x=np.zeros(10)\n",
        "y=np.arange(10,50)"
      ],
      "execution_count": 5,
      "outputs": []
    },
    {
      "cell_type": "markdown",
      "metadata": {
        "id": "lgeC7D73Sjna"
      },
      "source": [
        "Calculate the array dimensions of the array, the number of elements and the total bytes consumed"
      ]
    },
    {
      "cell_type": "code",
      "metadata": {
        "id": "w7Ddn4gYSjsG",
        "colab": {
          "base_uri": "https://localhost:8080/"
        },
        "outputId": "70a47587-4486-4e73-f2da-18f17142559f"
      },
      "source": [
        "myarray = np.array([[[1,2,3],[1,2,3],[1,2,3]],\n",
        "                    [[1,2,3],[1,2,3],[1,2,3]]])\n",
        "\n",
        "print(\"Size of the array: \", myarray.itemsize)\n",
        "print(\"Number of elements: \", myarray.size)\n",
        "print(\"Total bytes consumed: \", myarray.nbytes)\n"
      ],
      "execution_count": 6,
      "outputs": [
        {
          "output_type": "stream",
          "name": "stdout",
          "text": [
            "Size of the array:  8\n",
            "Number of elements:  18\n",
            "Total bytes consumed:  144\n"
          ]
        }
      ]
    },
    {
      "cell_type": "markdown",
      "metadata": {
        "id": "aKez2CBvRhHG"
      },
      "source": [
        "# 3 - Indexing - Access"
      ]
    },
    {
      "cell_type": "markdown",
      "metadata": {
        "id": "BW3xG2g7UeL4"
      },
      "source": [
        "Create a null vector of size 10 but the fifth value which is 1"
      ]
    },
    {
      "cell_type": "code",
      "metadata": {
        "id": "23mpFNZfUeU_",
        "colab": {
          "base_uri": "https://localhost:8080/"
        },
        "outputId": "5911f3ce-e945-45ef-d772-918090e5e47c"
      },
      "source": [
        "x = np.zeros(10)\n",
        "x[4] = 1\n",
        "print(x)"
      ],
      "execution_count": 7,
      "outputs": [
        {
          "output_type": "stream",
          "name": "stdout",
          "text": [
            "[0. 0. 0. 0. 1. 0. 0. 0. 0. 0.]\n"
          ]
        }
      ]
    },
    {
      "cell_type": "markdown",
      "metadata": {
        "id": "AI6nsQyqUecA"
      },
      "source": [
        "Reverse a vector (first element becomes last)\n"
      ]
    },
    {
      "cell_type": "code",
      "metadata": {
        "id": "oT-aM07IUehB",
        "colab": {
          "base_uri": "https://localhost:8080/"
        },
        "outputId": "3c32fb2e-28a6-4505-f1cb-8589a40b1b26"
      },
      "source": [
        "Z = np.arange(50)\n",
        "Z = Z[::-1]\n",
        "print(Z)"
      ],
      "execution_count": 8,
      "outputs": [
        {
          "output_type": "stream",
          "name": "stdout",
          "text": [
            "[49 48 47 46 45 44 43 42 41 40 39 38 37 36 35 34 33 32 31 30 29 28 27 26\n",
            " 25 24 23 22 21 20 19 18 17 16 15 14 13 12 11 10  9  8  7  6  5  4  3  2\n",
            "  1  0]\n"
          ]
        }
      ]
    },
    {
      "cell_type": "markdown",
      "metadata": {
        "id": "cjoJWnR0Uem6"
      },
      "source": [
        "Create a 2d array (shape =(10,10)) with 1 on the border and 0 inside\n",
        "\n",
        "\n"
      ]
    },
    {
      "cell_type": "code",
      "metadata": {
        "id": "kNCzgGcAUesA",
        "colab": {
          "base_uri": "https://localhost:8080/"
        },
        "outputId": "669a1670-49dd-421d-dd03-5e251ec068c6"
      },
      "source": [
        "import numpy as np\n",
        "myarray = np.ones((10,10))\n",
        "\n",
        "myarray[1:-1,1:-1] = 0\n",
        "print(myarray)"
      ],
      "execution_count": 9,
      "outputs": [
        {
          "output_type": "stream",
          "name": "stdout",
          "text": [
            "[[1. 1. 1. 1. 1. 1. 1. 1. 1. 1.]\n",
            " [1. 0. 0. 0. 0. 0. 0. 0. 0. 1.]\n",
            " [1. 0. 0. 0. 0. 0. 0. 0. 0. 1.]\n",
            " [1. 0. 0. 0. 0. 0. 0. 0. 0. 1.]\n",
            " [1. 0. 0. 0. 0. 0. 0. 0. 0. 1.]\n",
            " [1. 0. 0. 0. 0. 0. 0. 0. 0. 1.]\n",
            " [1. 0. 0. 0. 0. 0. 0. 0. 0. 1.]\n",
            " [1. 0. 0. 0. 0. 0. 0. 0. 0. 1.]\n",
            " [1. 0. 0. 0. 0. 0. 0. 0. 0. 1.]\n",
            " [1. 1. 1. 1. 1. 1. 1. 1. 1. 1.]]\n"
          ]
        }
      ]
    },
    {
      "cell_type": "markdown",
      "metadata": {
        "id": "bpIcrbWGRhJ_"
      },
      "source": [
        "# 4 - Basic methods\n"
      ]
    },
    {
      "cell_type": "markdown",
      "metadata": {
        "id": "stV0Q335YU88"
      },
      "source": [
        "Find indices of non-zero elements from [1,2,0,0,4,0]"
      ]
    },
    {
      "cell_type": "code",
      "metadata": {
        "id": "sBRA0BVrYVGD",
        "colab": {
          "base_uri": "https://localhost:8080/"
        },
        "outputId": "741377e8-29c5-46a2-b72f-609765521eb7"
      },
      "source": [
        "import numpy as np\n",
        "indices = np.array([1,2,0,0,4,0])\n",
        "np.nonzero(indices)"
      ],
      "execution_count": 10,
      "outputs": [
        {
          "output_type": "execute_result",
          "data": {
            "text/plain": [
              "(array([0, 1, 4]),)"
            ]
          },
          "metadata": {},
          "execution_count": 10
        }
      ]
    },
    {
      "cell_type": "markdown",
      "metadata": {
        "id": "JxWRjl50VVQu"
      },
      "source": [
        "Using myarray calculate:\n",
        "- minimum\n",
        "- maximum of each row\n",
        "- mean of each column\n",
        "- sum\n",
        "- sort myarray\n",
        "- cast to float\n",
        "- calculate if any value is > 90"
      ]
    },
    {
      "cell_type": "code",
      "metadata": {
        "id": "kBU2j8MeVVXw",
        "colab": {
          "base_uri": "https://localhost:8080/"
        },
        "outputId": "7fcb936e-362a-4a2b-f630-d11571cd252a"
      },
      "source": [
        "myarray = np.array([[10, 29, 38, 89, 87],\n",
        "                    [71, 66, 32, 21, 83],\n",
        "                    [30, 54,  5, 11, 54],\n",
        "                    [51, 12, 53, 43, 24],\n",
        "                    [97, 47, 34, 91, 69]])\n",
        "print(myarray.min())\n",
        " \n",
        "rowmax=np.amax(myarray, axis=1)\n",
        "print(rowmax)\n",
        " \n",
        "colmean = np.mean(myarray, axis=0)\n",
        "print(colmean)\n",
        " \n",
        "npsum = np.sum(myarray)\n",
        "print(npsum)\n",
        " \n",
        "npsort = np.sort(myarray)\n",
        "print(npsort)\n",
        " \n",
        "myarray.astype(float)\n",
        " \n",
        "x=np.where(myarray>90)\n",
        "print(\"Values are bigger than 90: \", x)\n"
      ],
      "execution_count": 11,
      "outputs": [
        {
          "output_type": "stream",
          "name": "stdout",
          "text": [
            "5\n",
            "[89 83 54 53 97]\n",
            "[51.8 41.6 32.4 51.  63.4]\n",
            "1201\n",
            "[[10 29 38 87 89]\n",
            " [21 32 66 71 83]\n",
            " [ 5 11 30 54 54]\n",
            " [12 24 43 51 53]\n",
            " [34 47 69 91 97]]\n",
            "Values are bigger than 90:  (array([4, 4]), array([0, 3]))\n"
          ]
        }
      ]
    },
    {
      "cell_type": "markdown",
      "metadata": {
        "id": "1Iu8UKYRRhMw"
      },
      "source": [
        "# 5 - Mathematical Operators"
      ]
    },
    {
      "cell_type": "markdown",
      "metadata": {
        "id": "5E2YFShrXfcT"
      },
      "source": [
        "Using myarray calculate:\n",
        "- tangent rounded to the 2 decimal\n",
        "- logaritmic of each row rounded to the 3 decimal\n",
        "- hyperbolic sine of each column rounded to the 4 decimal\n",
        "- multiply by pi"
      ]
    },
    {
      "cell_type": "code",
      "metadata": {
        "colab": {
          "base_uri": "https://localhost:8080/"
        },
        "id": "hDg_i_FKXfjr",
        "outputId": "71e59c66-bb21-4ff6-c9a1-ccc3a3e4f9e1"
      },
      "source": [
        "myarray = np.array([[0.1 , 0.29, 0.38, 0.87, 0.89],\n",
        "                    [0.21, 0.32, 0.66, 0.71, 0.83],\n",
        "                    [0.05, 0.11, 0.3 , 0.54, 0.54],\n",
        "                    [0.12, 0.24, 0.43, 0.51, 0.53],\n",
        "                    [0.34, 0.47, 0.69, 0.91, 0.97]])\n",
        "print(myarray)\n",
        "\n",
        "new = np.tan(myarray)\n",
        "print(new)\n",
        "new = [np.round(elem,2) for elem in new]\n",
        "print(new)\n",
        "\n",
        "logaritmic = np.log(myarray)\n",
        "logaritmic = [np.round(elem,3) for elem in logaritmic]\n",
        "print(logaritmic)\n",
        "\n",
        "hyperbolicSine = np.sinh(myarray)\n",
        "hyperbolicSine = [np.round(elem,4) for elem in hyperbolicSine]\n",
        "print(hyperbolicSine)\n",
        "\n",
        "multiplyPi = np.pi * myarray\n",
        "print(multiplyPi)"
      ],
      "execution_count": 12,
      "outputs": [
        {
          "output_type": "stream",
          "name": "stdout",
          "text": [
            "[[0.1  0.29 0.38 0.87 0.89]\n",
            " [0.21 0.32 0.66 0.71 0.83]\n",
            " [0.05 0.11 0.3  0.54 0.54]\n",
            " [0.12 0.24 0.43 0.51 0.53]\n",
            " [0.34 0.47 0.69 0.91 0.97]]\n",
            "[[0.10033467 0.29841279 0.39941272 1.18532486 1.23459946]\n",
            " [0.21314244 0.33138941 0.77610491 0.85952867 1.09343292]\n",
            " [0.05004171 0.11044582 0.30933625 0.59942962 0.59942962]\n",
            " [0.12057934 0.2447167  0.45862102 0.55935872 0.58591701]\n",
            " [0.35373688 0.5079659  0.82533611 1.28636938 1.45920113]]\n",
            "[array([0.1 , 0.3 , 0.4 , 1.19, 1.23]), array([0.21, 0.33, 0.78, 0.86, 1.09]), array([0.05, 0.11, 0.31, 0.6 , 0.6 ]), array([0.12, 0.24, 0.46, 0.56, 0.59]), array([0.35, 0.51, 0.83, 1.29, 1.46])]\n",
            "[array([-2.303, -1.238, -0.968, -0.139, -0.117]), array([-1.561, -1.139, -0.416, -0.342, -0.186]), array([-2.996, -2.207, -1.204, -0.616, -0.616]), array([-2.12 , -1.427, -0.844, -0.673, -0.635]), array([-1.079, -0.755, -0.371, -0.094, -0.03 ])]\n",
            "[array([0.1002, 0.2941, 0.3892, 0.984 , 1.0122]), array([0.2115, 0.3255, 0.709 , 0.7712, 0.9286]), array([0.05  , 0.1102, 0.3045, 0.5666, 0.5666]), array([0.1203, 0.2423, 0.4434, 0.5324, 0.5552]), array([0.3466, 0.4875, 0.7461, 1.0409, 1.1294])]\n",
            "[[0.31415927 0.91106187 1.19380521 2.73318561 2.79601746]\n",
            " [0.65973446 1.00530965 2.07345115 2.23053078 2.6075219 ]\n",
            " [0.15707963 0.34557519 0.9424778  1.69646003 1.69646003]\n",
            " [0.37699112 0.75398224 1.35088484 1.60221225 1.66504411]\n",
            " [1.0681415  1.47654855 2.16769893 2.85884931 3.04734487]]\n"
          ]
        }
      ]
    },
    {
      "cell_type": "markdown",
      "metadata": {
        "id": "iyf3u3b2Xfph"
      },
      "source": [
        "Using myarray calculate:\n",
        "* define a function that squares the components and makes the sum of all of them\n",
        "* apply the function through axis 0\n",
        "* apply the function through axis 1\n",
        "* apply the function through both axis"
      ]
    },
    {
      "cell_type": "code",
      "metadata": {
        "id": "gK6x6pZNXfvI",
        "colab": {
          "base_uri": "https://localhost:8080/"
        },
        "outputId": "bae8a343-6b5a-4830-c2ef-3f3b5753444b"
      },
      "source": [
        "myarray = np.array([[0.1 , 0.29, 0.38, 0.87, 0.89],\n",
        "                    [0.21, 0.32, 0.66, 0.71, 0.83],\n",
        "                    [0.05, 0.11, 0.3 , 0.54, 0.54],\n",
        "                    [0.12, 0.24, 0.43, 0.51, 0.53],\n",
        "                    [0.34, 0.47, 0.69, 0.91, 0.97]])\n",
        "print(myarray)\n",
        "\n",
        "\n",
        "square = np.square([myarray])\n",
        "sumSquare = np.sum([square])\n",
        "print(sumSquare)\n",
        "\n",
        "print(np.apply_along_axis(sorted, 0, myarray))\n",
        "print(np.apply_along_axis(sorted, 1, myarray))\n",
        "print(np.apply_along_axis(sorted, 0-1, myarray))"
      ],
      "execution_count": 13,
      "outputs": [
        {
          "output_type": "stream",
          "name": "stdout",
          "text": [
            "[[0.1  0.29 0.38 0.87 0.89]\n",
            " [0.21 0.32 0.66 0.71 0.83]\n",
            " [0.05 0.11 0.3  0.54 0.54]\n",
            " [0.12 0.24 0.43 0.51 0.53]\n",
            " [0.34 0.47 0.69 0.91 0.97]]\n",
            "7.6299\n",
            "[[0.05 0.11 0.3  0.51 0.53]\n",
            " [0.1  0.24 0.38 0.54 0.54]\n",
            " [0.12 0.29 0.43 0.71 0.83]\n",
            " [0.21 0.32 0.66 0.87 0.89]\n",
            " [0.34 0.47 0.69 0.91 0.97]]\n",
            "[[0.1  0.29 0.38 0.87 0.89]\n",
            " [0.21 0.32 0.66 0.71 0.83]\n",
            " [0.05 0.11 0.3  0.54 0.54]\n",
            " [0.12 0.24 0.43 0.51 0.53]\n",
            " [0.34 0.47 0.69 0.91 0.97]]\n",
            "[[0.1  0.29 0.38 0.87 0.89]\n",
            " [0.21 0.32 0.66 0.71 0.83]\n",
            " [0.05 0.11 0.3  0.54 0.54]\n",
            " [0.12 0.24 0.43 0.51 0.53]\n",
            " [0.34 0.47 0.69 0.91 0.97]]\n"
          ]
        }
      ]
    },
    {
      "cell_type": "markdown",
      "metadata": {
        "id": "D2fFcG9cXf_n"
      },
      "source": [
        "What is the result of the following expression?\n",
        "```python\n",
        "0 * np.nan\n",
        "np.nan==np.nan\n",
        "np.inf > np.nan\n",
        "np.nan - np.nan\n",
        "```"
      ]
    },
    {
      "cell_type": "code",
      "metadata": {
        "id": "B110V2d8XgEF",
        "colab": {
          "base_uri": "https://localhost:8080/",
          "height": 105
        },
        "outputId": "2a6ddf8b-8256-4ded-be36-8bec3ef2540b"
      },
      "source": [
        "print(0 * np.nan)\n",
        "print(np.nan==np.nan)\n",
        "print(np.inf > np.nan)\n",
        "print(np.nan - np.nan)\n",
        "\"\"\"\n",
        "nan\n",
        "False\n",
        "False\n",
        "nan\n",
        "\"\"\""
      ],
      "execution_count": 14,
      "outputs": [
        {
          "output_type": "stream",
          "name": "stdout",
          "text": [
            "nan\n",
            "False\n",
            "False\n",
            "nan\n"
          ]
        },
        {
          "output_type": "execute_result",
          "data": {
            "text/plain": [
              "'\\nnan\\nFalse\\nFalse\\nnan\\n'"
            ],
            "application/vnd.google.colaboratory.intrinsic+json": {
              "type": "string"
            }
          },
          "metadata": {},
          "execution_count": 14
        }
      ]
    },
    {
      "cell_type": "markdown",
      "metadata": {
        "id": "PS1LWpTyRhPc"
      },
      "source": [
        "# 6 - Random Family\n"
      ]
    },
    {
      "cell_type": "markdown",
      "metadata": {
        "id": "weq2IFrmeUA1"
      },
      "source": [
        "Using np.random:\n",
        "- generate float random numbers between 0-1 in shape (1,4,5)\n",
        "- generate integer numbers between 0-1000 in shape (4,4)\n",
        "- generate float random numbers with normal distribution in shape (3,3,2)\n",
        "- generate 20 random integers between [0,1,2] with double probabilities of value 0"
      ]
    },
    {
      "cell_type": "code",
      "metadata": {
        "id": "RB7zhfMteasQ",
        "colab": {
          "base_uri": "https://localhost:8080/"
        },
        "outputId": "9ae4a79c-8c53-4222-aebb-21f88da49727"
      },
      "source": [
        "import numpy as np\n",
        "\n",
        "rng = np.random.default_rng()\n",
        "rng.random((1, 4, 5))\n",
        "\n",
        "rng.integers(0, 1000)\n",
        "\n",
        "np.random.normal(3, 3, 2) \n",
        "\n"
      ],
      "execution_count": 16,
      "outputs": [
        {
          "output_type": "execute_result",
          "data": {
            "text/plain": [
              "array([5.19273925, 4.04515778])"
            ]
          },
          "metadata": {},
          "execution_count": 16
        }
      ]
    },
    {
      "cell_type": "markdown",
      "metadata": {
        "id": "H8QD5s90RhSJ"
      },
      "source": [
        "# 7 - Shape transformations"
      ]
    },
    {
      "cell_type": "markdown",
      "metadata": {
        "id": "AjzLLq0wgapl"
      },
      "source": [
        "using myarray:\n",
        "* reshape to (2,12)\n",
        "* reshape to (6,4)\n",
        "* add new last axis\n",
        "* add new medium axis\n",
        "* add new first axis\n",
        "* split by 3 column (result = (3,3) and (3,5))\n",
        "* collapse to 1D array\n"
      ]
    },
    {
      "cell_type": "code",
      "metadata": {
        "colab": {
          "base_uri": "https://localhost:8080/"
        },
        "id": "9_z9JpY9gayg",
        "outputId": "eda3e750-7d42-4a83-d415-0efe0eada713"
      },
      "source": [
        "import numpy as np\n",
        "myarray = np.arange(24).reshape((3,8))\n",
        "print(myarray)\n",
        "myarray = np.arange(24).reshape((6,4))\n",
        "print(myarray)\n",
        "myarray[np.newaxis, :]\n",
        "\n",
        "myarray[:, np.newaxis]\n",
        "np.split((3,3), (3,5))\n",
        "\n",
        "myarray.flatten\n",
        "\n"
      ],
      "execution_count": null,
      "outputs": [
        {
          "output_type": "stream",
          "name": "stdout",
          "text": [
            "[[ 0  1  2  3  4  5  6  7]\n",
            " [ 8  9 10 11 12 13 14 15]\n",
            " [16 17 18 19 20 21 22 23]]\n",
            "[[ 0  1  2  3]\n",
            " [ 4  5  6  7]\n",
            " [ 8  9 10 11]\n",
            " [12 13 14 15]\n",
            " [16 17 18 19]\n",
            " [20 21 22 23]]\n"
          ]
        },
        {
          "output_type": "execute_result",
          "data": {
            "text/plain": [
              "<function ndarray.flatten>"
            ]
          },
          "metadata": {},
          "execution_count": 2
        }
      ]
    },
    {
      "cell_type": "markdown",
      "metadata": {
        "id": "ivLughTHRhVH"
      },
      "source": [
        "# 8 - Combinations of arrays\n"
      ]
    },
    {
      "cell_type": "markdown",
      "metadata": {
        "id": "J-6fAGGPiwW3"
      },
      "source": [
        "using arr1,arr2:\n",
        "* repeat 3 times arr1 using repeat\n",
        "* repeat 5 times arr2 using tile\n",
        "* concatenate both along axis 0\n",
        "* concatenate both along axis 1\n",
        "* stack both vertically\n",
        "* stack both horizontally"
      ]
    },
    {
      "cell_type": "code",
      "metadata": {
        "id": "H2doM-dSiwfa",
        "colab": {
          "base_uri": "https://localhost:8080/"
        },
        "outputId": "9be59e89-2883-4d28-e94e-397cfe15421d"
      },
      "source": [
        "arr1 = np.array([[1,2,3],[4,5,6]])\n",
        "arr2 = np.array([[7,8,9],[10,11,12]])\n",
        "\n",
        "print(np.repeat(arr1, 3, axis= 0))\n",
        "print(np.tile(arr2, (5, 1)))\n",
        "print(np.concatenate((arr1,arr2), axis =0))\n",
        "print(np.concatenate((arr1,arr2), axis =1))\n",
        "print(np.vstack((arr1,arr2)))\n",
        "print(np.hstack((arr1, arr2)))\n",
        "\n"
      ],
      "execution_count": null,
      "outputs": [
        {
          "output_type": "stream",
          "name": "stdout",
          "text": [
            "[[1 2 3]\n",
            " [1 2 3]\n",
            " [1 2 3]\n",
            " [4 5 6]\n",
            " [4 5 6]\n",
            " [4 5 6]]\n",
            "[[ 7  8  9]\n",
            " [10 11 12]\n",
            " [ 7  8  9]\n",
            " [10 11 12]\n",
            " [ 7  8  9]\n",
            " [10 11 12]\n",
            " [ 7  8  9]\n",
            " [10 11 12]\n",
            " [ 7  8  9]\n",
            " [10 11 12]]\n",
            "[[ 1  2  3]\n",
            " [ 4  5  6]\n",
            " [ 7  8  9]\n",
            " [10 11 12]]\n",
            "[[ 1  2  3  7  8  9]\n",
            " [ 4  5  6 10 11 12]]\n",
            "[[ 1  2  3]\n",
            " [ 4  5  6]\n",
            " [ 7  8  9]\n",
            " [10 11 12]]\n",
            "[[ 1  2  3  7  8  9]\n",
            " [ 4  5  6 10 11 12]]\n"
          ]
        }
      ]
    },
    {
      "cell_type": "markdown",
      "metadata": {
        "id": "LfIlEY9LRhXl"
      },
      "source": [
        "# 9 - Linear Algebra\n"
      ]
    },
    {
      "cell_type": "markdown",
      "metadata": {
        "id": "KCbFNwtNkL4C"
      },
      "source": [
        "* generate a random integer array (between 1-100) with shape (3,3)\n",
        "* calculate elemnt by element product\n",
        "* calculate matrix product\n",
        "* calculate the norm\n",
        "* calculate the determinant\n",
        "* calculate the rank\n",
        "* calculate the inverse"
      ]
    },
    {
      "cell_type": "code",
      "metadata": {
        "id": "7kF5H3pCkMAl",
        "colab": {
          "base_uri": "https://localhost:8080/"
        },
        "outputId": "6f652247-b31e-4bdf-8437-41f0f793eb6c"
      },
      "source": [
        "random = np.random.randint(1, high=100, size=(3,3), dtype=int)\n",
        "print(np.prod(random, axis=None))\n",
        "print(np.matmul(random,random))\n",
        "print(np.linalg.norm(random))\n",
        "print(np.linalg.det(random))\n",
        "print(np.linalg.matrix_rank(random))\n",
        "print(np.linalg.inv(random))"
      ],
      "execution_count": null,
      "outputs": [
        {
          "output_type": "stream",
          "name": "stdout",
          "text": [
            "31374230580000\n",
            "[[7651 8550 2760]\n",
            " [4082 5431 1620]\n",
            " [3164 3948 2065]]\n",
            "134.1379886534758\n",
            "-75355.00000000006\n",
            "3\n",
            "[[-0.00510915  0.03344171 -0.01214253]\n",
            " [ 0.01764979 -0.02461681  0.00298587]\n",
            " [-0.01913609  0.01616349  0.0298454 ]]\n"
          ]
        }
      ]
    },
    {
      "cell_type": "markdown",
      "metadata": {
        "id": "M8WRTDrLnH_2"
      },
      "source": [
        "Solve the linear problem between A and b"
      ]
    },
    {
      "cell_type": "code",
      "metadata": {
        "id": "v2p7jLUsnIIx",
        "colab": {
          "base_uri": "https://localhost:8080/"
        },
        "outputId": "94650ca6-b000-43f0-f3df-2bdb23946fde"
      },
      "source": [
        "A = np.array([[1,2,3],[14,2,52],[-2,5,20]])\n",
        "b = np.array([0.5,0,13])\n",
        "print(np.linalg.solve(A, b))"
      ],
      "execution_count": null,
      "outputs": [
        {
          "output_type": "stream",
          "name": "stdout",
          "text": [
            "[-1.51958225  0.42036554  0.39295039]\n"
          ]
        }
      ]
    },
    {
      "cell_type": "markdown",
      "metadata": {
        "id": "NNXmjz7aSNB_"
      },
      "source": [
        "# 10 - Save / Load methods"
      ]
    },
    {
      "cell_type": "markdown",
      "metadata": {
        "id": "V74ETJbykMvK"
      },
      "source": [
        "What is the result of the following expression?\n",
        "```python\n",
        "arr1 = np.array([[1,2,3],[4,5,6]])\n",
        "arr2 = np.array([[7,8,9],[10,11,12]])\n",
        "\n",
        "np.save('arr1.npy',arr1)\n",
        "np.save('arr2.npy',arr2)\n",
        "print(np.load('arr1.npy'))\n",
        "print(np.load('arr2.npy'))\n",
        "np.savez('arr1_arr2.npz',arr1=arr1,arr2=arr2)\n",
        "arr3 = np.load('arr1_arr2.npz')\n",
        "print(arr3['arr1'])\n",
        "print(arr3['arr2'])\n",
        "```"
      ]
    },
    {
      "cell_type": "code",
      "metadata": {
        "id": "Wzjw2b2YkM4N",
        "colab": {
          "base_uri": "https://localhost:8080/",
          "height": 35
        },
        "outputId": "587175f0-a010-4578-cce7-e00271abe09e"
      },
      "source": [
        "\"\"\"\n",
        "[[1 2 3]\n",
        " [4 5 6]]\n",
        "[[ 7  8  9]\n",
        " [10 11 12]]\n",
        "[[1 2 3]\n",
        " [4 5 6]]\n",
        "[[ 7  8  9]\n",
        " [10 11 12]]\n",
        "\"\"\""
      ],
      "execution_count": null,
      "outputs": [
        {
          "output_type": "execute_result",
          "data": {
            "text/plain": [
              "'\\n[[1 2 3]\\n [4 5 6]]\\n[[ 7  8  9]\\n [10 11 12]]\\n[[1 2 3]\\n [4 5 6]]\\n[[ 7  8  9]\\n [10 11 12]]\\n'"
            ],
            "application/vnd.google.colaboratory.intrinsic+json": {
              "type": "string"
            }
          },
          "metadata": {},
          "execution_count": 14
        }
      ]
    }
  ]
}